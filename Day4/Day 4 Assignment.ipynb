{
 "cells": [
  {
   "cell_type": "code",
   "execution_count": 1,
   "metadata": {},
   "outputs": [],
   "source": [
    "a = complex(1,3)\n",
    "b= complex(2,5)"
   ]
  },
  {
   "cell_type": "code",
   "execution_count": 9,
   "metadata": {},
   "outputs": [
    {
     "name": "stdout",
     "output_type": "stream",
     "text": [
      "addition: (3+8j)\n",
      "substraction: (-1-2j)\n"
     ]
    }
   ],
   "source": [
    "print(\"addition:\",a+b)\n",
    "print(\"substraction:\" ,a-b)\n",
    "print(\"multiplication:\" ,a*b)\n",
    "print(\"division:\" ,a/b)"
   ]
  },
  {
   "cell_type": "markdown",
   "metadata": {},
   "source": [
    "According to my research floor __division__ and __modulo__ operations are not possible on complex numbers"
   ]
  },
  {
   "cell_type": "markdown",
   "metadata": {},
   "source": [
    "## range() ##"
   ]
  },
  {
   "cell_type": "markdown",
   "metadata": {},
   "source": [
    "__range()__ function returns a sequence of numbers starting from 0 or any number we want to  specify the sequence to start from.\n",
    "It can also start from negative numbers ,only intergers no decimal number.\n",
    "Parameters of range are : \n",
    "\n",
    "range( _start_ , _stop_ , _increment_ )\n",
    "\n",
    "__start__ : it is a optional parameter , by default is starts with 0 but can also start from any other number<br>\n",
    "__stop__  : it is a compulsory parameter , it specifies where to stop. The number is excluded.\n",
    "<br>__increment__ :it is a optional parameter ,it determines the incrementation and default is 1.\n",
    "\n"
   ]
  },
  {
   "cell_type": "code",
   "execution_count": 10,
   "metadata": {},
   "outputs": [
    {
     "name": "stdout",
     "output_type": "stream",
     "text": [
      "0\n",
      "1\n",
      "2\n",
      "3\n",
      "4\n",
      "5\n",
      "6\n",
      "7\n",
      "8\n",
      "9\n"
     ]
    }
   ],
   "source": [
    "x = range(10)\n",
    "for n in x:\n",
    "  print(n)"
   ]
  },
  {
   "cell_type": "code",
   "execution_count": 11,
   "metadata": {},
   "outputs": [
    {
     "name": "stdout",
     "output_type": "stream",
     "text": [
      "5\n",
      "6\n",
      "7\n",
      "8\n",
      "9\n",
      "10\n",
      "11\n",
      "12\n",
      "13\n",
      "14\n",
      "15\n",
      "16\n",
      "17\n",
      "18\n",
      "19\n"
     ]
    }
   ],
   "source": [
    "x = range(5 , 20)\n",
    "for n in x:\n",
    "  print(n)"
   ]
  },
  {
   "cell_type": "code",
   "execution_count": 12,
   "metadata": {},
   "outputs": [
    {
     "name": "stdout",
     "output_type": "stream",
     "text": [
      "5\n",
      "10\n",
      "15\n",
      "20\n",
      "25\n",
      "30\n",
      "35\n",
      "40\n",
      "45\n"
     ]
    }
   ],
   "source": [
    "x = range(5, 50 ,5)\n",
    "for n in x:\n",
    "  print(n)"
   ]
  },
  {
   "cell_type": "code",
   "execution_count": 15,
   "metadata": {},
   "outputs": [
    {
     "name": "stdout",
     "output_type": "stream",
     "text": [
      "greater than 25:  160\n"
     ]
    }
   ],
   "source": [
    "i=10\n",
    "j=16\n",
    "k=i+j\n",
    "if k >25 :\n",
    "    print(\"greater than 25: \" ,i*j)\n",
    "    \n",
    "elif k < 25:\n",
    "    print(\"less than 25: \",i/j)\n",
    "    \n",
    "else:\n",
    "    print(\"equal to 25\")\n",
    "    \n"
   ]
  },
  {
   "cell_type": "code",
   "execution_count": 19,
   "metadata": {},
   "outputs": [
    {
     "name": "stdout",
     "output_type": "stream",
     "text": [
      "98\n",
      "142\n",
      "194\n",
      "398\n",
      "9998\n",
      "782\n"
     ]
    }
   ],
   "source": [
    "l = [10,12,14,13,17,19,20,100,25,28]\n",
    "\n",
    "for i in l :\n",
    "    if i %2 ==0 :\n",
    "        print((i**2)-2)\n",
    "    "
   ]
  },
  {
   "cell_type": "code",
   "execution_count": 25,
   "metadata": {},
   "outputs": [
    {
     "name": "stdout",
     "output_type": "stream",
     "text": [
      "21\n",
      "34\n",
      "43\n",
      "17\n",
      "19\n",
      "20\n",
      "100\n",
      "25\n",
      "28\n"
     ]
    }
   ],
   "source": [
    "l = [14,21,34,43,17,19,20,100,25,28]\n",
    "\n",
    "for i in l :\n",
    "    k =i/2\n",
    "    if k >7 :\n",
    "        print(i)\n",
    "    "
   ]
  },
  {
   "cell_type": "code",
   "execution_count": null,
   "metadata": {},
   "outputs": [],
   "source": []
  }
 ],
 "metadata": {
  "kernelspec": {
   "display_name": "Python 3",
   "language": "python",
   "name": "python3"
  },
  "language_info": {
   "codemirror_mode": {
    "name": "ipython",
    "version": 3
   },
   "file_extension": ".py",
   "mimetype": "text/x-python",
   "name": "python",
   "nbconvert_exporter": "python",
   "pygments_lexer": "ipython3",
   "version": "3.8.2"
  }
 },
 "nbformat": 4,
 "nbformat_minor": 4
}
